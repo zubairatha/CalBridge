{
 "cells": [
  {
   "cell_type": "markdown",
   "id": "2b05675a",
   "metadata": {},
   "source": [
    "# 0) (Optional) sanity: status + calendars"
   ]
  },
  {
   "cell_type": "code",
   "execution_count": 1,
   "id": "0f99481c",
   "metadata": {},
   "outputs": [
    {
     "name": "stdout",
     "output_type": "stream",
     "text": [
      "STATUS: {'authorized': True, 'status_code': 3}\n",
      "\n",
      "CALENDARS:\n",
      "- Home                 writable=True id=E198547B-614F-4109-B61A-96C56D4DED8A\n",
      "- Birthdays            writable=False id=3CAFCE49-B7E6-4643-957A-5D2C095ABDCC\n",
      "- US Holidays          writable=False id=BB8C7E8D-EA0D-43BC-B670-5940F97624F2\n",
      "- Work                 writable=True id=20E9D11E-48F8-46E7-9CDB-73B49C70FD41\n"
     ]
    }
   ],
   "source": [
    "# Cell 0 — status + calendars\n",
    "import requests\n",
    "\n",
    "BASE = \"http://127.0.0.1:8765\"  # change if you run CalBridge on another port\n",
    "\n",
    "print(\"STATUS:\", requests.get(f\"{BASE}/status\", timeout=10).json())\n",
    "\n",
    "print(\"\\nCALENDARS:\")\n",
    "for c in requests.get(f\"{BASE}/calendars\", timeout=10).json():\n",
    "    print(f\"- {c['title']:<20} writable={c['allows_modifications']} id={c['id']}\")\n"
   ]
  },
  {
   "cell_type": "markdown",
   "id": "29b71896",
   "metadata": {},
   "source": [
    "# 1) Create → verify → delete (default calendar)"
   ]
  },
  {
   "cell_type": "code",
   "execution_count": 2,
   "id": "b1fc2bb3",
   "metadata": {},
   "outputs": [
    {
     "name": "stdout",
     "output_type": "stream",
     "text": [
      "CREATE status: 200 {\"title\":\"Test: default calendar event\",\"start_iso\":\"2025-10-08T23:33:51.979644-04:00\",\"end_iso\":\"2025-10-09T00:03:51.979722-04:00\",\"id\":\"87DB3D94-3271-44B6-8A99-BC23CA423BEA\",\"calendar\":\"Home\"}\n",
      "EVENT_ID: 87DB3D94-3271-44B6-8A99-BC23CA423BEA\n"
     ]
    }
   ],
   "source": [
    "# Cell 1A — create on DEFAULT calendar\n",
    "import requests\n",
    "from datetime import datetime, timedelta\n",
    "\n",
    "BASE = \"http://127.0.0.1:8765\"\n",
    "\n",
    "start = (datetime.now().astimezone() + timedelta(minutes=5)).isoformat()\n",
    "end   = (datetime.now().astimezone() + timedelta(minutes=35)).isoformat()\n",
    "\n",
    "resp = requests.post(f\"{BASE}/add\", json={\n",
    "    \"title\": \"Test: default calendar event\",\n",
    "    \"start_iso\": start,\n",
    "    \"end_iso\": end,\n",
    "    \"notes\": \"source=notebook; exp=1A\"\n",
    "}, timeout=10)\n",
    "print(\"CREATE status:\", resp.status_code, resp.text)\n",
    "exp1_event = resp.json().get(\"id\")\n",
    "print(\"EVENT_ID:\", exp1_event)\n"
   ]
  },
  {
   "cell_type": "code",
   "execution_count": 3,
   "id": "22a2645a",
   "metadata": {},
   "outputs": [
    {
     "name": "stdout",
     "output_type": "stream",
     "text": [
      "DELETE: {'deleted': True}\n"
     ]
    }
   ],
   "source": [
    "# Cell 1B — delete the event from 1A\n",
    "import requests\n",
    "\n",
    "BASE = \"http://127.0.0.1:8765\"\n",
    "assert 'exp1_event' in globals() and exp1_event, \"Run Cell 1A first.\"\n",
    "\n",
    "print(\"DELETE:\", requests.post(f\"{BASE}/delete\", params={\"event_id\": exp1_event}, timeout=10).json())\n"
   ]
  },
  {
   "cell_type": "markdown",
   "id": "2252287c",
   "metadata": {},
   "source": [
    "# 2) Create with tags (title + notes) → verify → delete (default calendar)"
   ]
  },
  {
   "cell_type": "code",
   "execution_count": 6,
   "id": "eaade514",
   "metadata": {},
   "outputs": [
    {
     "name": "stdout",
     "output_type": "stream",
     "text": [
      "CREATE status: 200 {\"title\":\"Notebook Tagged Event [#work #deepwork #priority-high]\",\"start_iso\":\"2025-10-03T16:40:06.784789-04:00\",\"end_iso\":\"2025-10-03T17:10:06.784855-04:00\",\"id\":\"8D7EC7E7-4AC4-4D23-8C9B-8C114E4A30BE\",\"calendar\":\"Work\"}\n",
      "EVENT_ID: 8D7EC7E7-4AC4-4D23-8C9B-8C114E4A30BE\n"
     ]
    }
   ],
   "source": [
    "# Cell 2A — create with tags on DEFAULT\n",
    "import requests\n",
    "from datetime import datetime, timedelta\n",
    "\n",
    "BASE = \"http://127.0.0.1:8765\"\n",
    "\n",
    "tags = [\"work\", \"deepwork\", \"priority-high\"]\n",
    "TITLE = f\"Notebook Tagged Event [{ ' '.join('#'+t for t in tags) }]\"\n",
    "NOTES = \"tags: \" + \",\".join(tags) + \"; source=notebook; exp=2A\"\n",
    "\n",
    "start = (datetime.now().astimezone() + timedelta(minutes=10)).isoformat()\n",
    "end   = (datetime.now().astimezone() + timedelta(minutes=40)).isoformat()\n",
    "\n",
    "resp = requests.post(f\"{BASE}/add\", json={\n",
    "    \"title\": TITLE,\n",
    "    \"start_iso\": start,\n",
    "    \"end_iso\": end,\n",
    "    \"notes\": NOTES\n",
    "}, timeout=10)\n",
    "print(\"CREATE status:\", resp.status_code, resp.text)\n",
    "exp2_event = resp.json().get(\"id\")\n",
    "print(\"EVENT_ID:\", exp2_event)\n"
   ]
  },
  {
   "cell_type": "code",
   "execution_count": 7,
   "id": "475c35cb",
   "metadata": {},
   "outputs": [
    {
     "name": "stdout",
     "output_type": "stream",
     "text": [
      "DELETE: {'deleted': True}\n"
     ]
    }
   ],
   "source": [
    "# Cell 2B — delete the tagged event from 2A\n",
    "import requests\n",
    "\n",
    "BASE = \"http://127.0.0.1:8765\"\n",
    "assert 'exp2_event' in globals() and exp2_event, \"Run Cell 2A first.\"\n",
    "\n",
    "print(\"DELETE:\", requests.post(f\"{BASE}/delete\", params={\"event_id\": exp2_event}, timeout=10).json())\n"
   ]
  },
  {
   "cell_type": "markdown",
   "id": "b0744147",
   "metadata": {},
   "source": [
    "# 3) Create in Work by calendar_id → verify → delete"
   ]
  },
  {
   "cell_type": "code",
   "execution_count": 8,
   "id": "6ac2281d",
   "metadata": {},
   "outputs": [
    {
     "name": "stdout",
     "output_type": "stream",
     "text": [
      "CREATE status: 200 {\"title\":\"Test: Work event (by ID)\",\"start_iso\":\"2025-10-03T16:42:45.302802-04:00\",\"end_iso\":\"2025-10-03T17:12:45.302853-04:00\",\"id\":\"7BF57F70-2019-44FF-AE3F-89C191847F77\",\"calendar\":\"Work\"}\n",
      "EVENT_ID: 7BF57F70-2019-44FF-AE3F-89C191847F77\n"
     ]
    }
   ],
   "source": [
    "# Cell 3A — create in WORK by ID\n",
    "import requests\n",
    "from datetime import datetime, timedelta\n",
    "\n",
    "BASE = \"http://127.0.0.1:8765\"\n",
    "\n",
    "# helper: get calendar id by exact title\n",
    "def get_calendar_id_by_title(title: str):\n",
    "    for c in requests.get(f\"{BASE}/calendars\", timeout=10).json():\n",
    "        if (c[\"title\"] or \"\").strip().lower() == title.strip().lower():\n",
    "            return c[\"id\"], c[\"allows_modifications\"]\n",
    "    return None, None\n",
    "\n",
    "WORK_ID, writable = get_calendar_id_by_title(\"Work\")\n",
    "assert WORK_ID and writable, \"Work calendar not found or not writable.\"\n",
    "\n",
    "start = (datetime.now().astimezone() + timedelta(minutes=12)).isoformat()\n",
    "end   = (datetime.now().astimezone() + timedelta(minutes=42)).isoformat()\n",
    "\n",
    "resp = requests.post(f\"{BASE}/add\", json={\n",
    "    \"title\": \"Test: Work event (by ID)\",\n",
    "    \"start_iso\": start,\n",
    "    \"end_iso\": end,\n",
    "    \"notes\": \"source=notebook; exp=3A\",\n",
    "    \"calendar_id\": WORK_ID\n",
    "}, timeout=10)\n",
    "print(\"CREATE status:\", resp.status_code, resp.text)\n",
    "exp3_event = resp.json().get(\"id\")\n",
    "print(\"EVENT_ID:\", exp3_event)\n"
   ]
  },
  {
   "cell_type": "code",
   "execution_count": 9,
   "id": "9c571d18",
   "metadata": {},
   "outputs": [
    {
     "name": "stdout",
     "output_type": "stream",
     "text": [
      "DELETE: {'deleted': True}\n"
     ]
    }
   ],
   "source": [
    "# Cell 3B — delete the Work event from 3A\n",
    "import requests\n",
    "\n",
    "BASE = \"http://127.0.0.1:8765\"\n",
    "assert 'exp3_event' in globals() and exp3_event, \"Run Cell 3A first.\"\n",
    "\n",
    "print(\"DELETE:\", requests.post(f\"{BASE}/delete\", params={\"event_id\": exp3_event}, timeout=10).json())\n"
   ]
  },
  {
   "cell_type": "markdown",
   "id": "088c99e8",
   "metadata": {},
   "source": [
    "# 4) Create in Home by calendar_title (fallback) → verify → delete"
   ]
  },
  {
   "cell_type": "code",
   "execution_count": 10,
   "id": "81539867",
   "metadata": {},
   "outputs": [
    {
     "name": "stdout",
     "output_type": "stream",
     "text": [
      "CREATE status: 200 {\"title\":\"Test: Home event (by title)\",\"start_iso\":\"2025-10-03T16:46:35.423978-04:00\",\"end_iso\":\"2025-10-03T17:16:35.424034-04:00\",\"id\":\"60C8DC1D-513F-42D6-A469-D0BB6457F543\",\"calendar\":\"Home\"}\n",
      "EVENT_ID: 60C8DC1D-513F-42D6-A469-D0BB6457F543\n"
     ]
    }
   ],
   "source": [
    "# Cell 4A — create in HOME by title (fallback)\n",
    "import requests\n",
    "from datetime import datetime, timedelta\n",
    "\n",
    "BASE = \"http://127.0.0.1:8765\"\n",
    "\n",
    "start = (datetime.now().astimezone() + timedelta(minutes=15)).isoformat()\n",
    "end   = (datetime.now().astimezone() + timedelta(minutes=45)).isoformat()\n",
    "\n",
    "resp = requests.post(f\"{BASE}/add\", json={\n",
    "    \"title\": \"Test: Home event (by title)\",\n",
    "    \"start_iso\": start,\n",
    "    \"end_iso\": end,\n",
    "    \"notes\": \"source=notebook; exp=4A\",\n",
    "    \"calendar_title\": \"Home\"   # case-insensitive match\n",
    "}, timeout=10)\n",
    "print(\"CREATE status:\", resp.status_code, resp.text)\n",
    "exp4_event = resp.json().get(\"id\")\n",
    "print(\"EVENT_ID:\", exp4_event)\n"
   ]
  },
  {
   "cell_type": "code",
   "execution_count": 11,
   "id": "ad90bb99",
   "metadata": {},
   "outputs": [
    {
     "name": "stdout",
     "output_type": "stream",
     "text": [
      "DELETE: {'deleted': True}\n"
     ]
    }
   ],
   "source": [
    "# Cell 4B — delete the Home event from 4A\n",
    "import requests\n",
    "\n",
    "BASE = \"http://127.0.0.1:8765\"\n",
    "assert 'exp4_event' in globals() and exp4_event, \"Run Cell 4A first.\"\n",
    "\n",
    "print(\"DELETE:\", requests.post(f\"{BASE}/delete\", params={\"event_id\": exp4_event}, timeout=10).json())\n"
   ]
  },
  {
   "cell_type": "markdown",
   "id": "f7083cb7",
   "metadata": {},
   "source": [
    "# 5) List next 7 days, grouped by calendar (read-only)"
   ]
  },
  {
   "cell_type": "code",
   "execution_count": 12,
   "id": "51172fea",
   "metadata": {},
   "outputs": [
    {
     "name": "stdout",
     "output_type": "stream",
     "text": [
      "\n",
      "=== Home ===\n",
      "- 2025-10-05 10:00 → 10:30 | Test: Home event (id: 77857C54-5B3A-4F47-8DFC-)\n",
      "- 2025-10-06 00:00 → 01:00 | TA Office Hours (id: AC7A3416-9489-4CC0-B959-)\n",
      "- 2025-10-07 16:10 → 18:00 | TA: Practicum (id: 78321BA2-61E0-4B90-9BBC-)\n",
      "\n",
      "=== Work ===\n",
      "- 2025-10-04 10:00 → 10:30 | Test: Work event (id: 3C20A137-D715-470F-94D7-)\n"
     ]
    }
   ],
   "source": [
    "# Cell 5 — list next 7 days grouped by calendar\n",
    "import requests, collections\n",
    "from datetime import datetime\n",
    "\n",
    "BASE = \"http://127.0.0.1:8765\"\n",
    "\n",
    "events = requests.get(f\"{BASE}/events\", params={\"days\": 7}, timeout=15).json()\n",
    "by_cal = collections.defaultdict(list)\n",
    "for e in events:\n",
    "    by_cal[e.get(\"calendar\",\"(unknown)\")].append(e)\n",
    "\n",
    "for cal_name in sorted(by_cal.keys()):\n",
    "    print(f\"\\n=== {cal_name} ===\")\n",
    "    for e in sorted(by_cal[cal_name], key=lambda x: x[\"start_iso\"]):\n",
    "        s = datetime.fromisoformat(e[\"start_iso\"]).strftime(\"%Y-%m-%d %H:%M\")\n",
    "        en = datetime.fromisoformat(e[\"end_iso\"]).strftime(\"%H:%M\")\n",
    "        print(f\"- {s} → {en} | {e['title']} (id: {e['id'][:24]})\")\n"
   ]
  },
  {
   "cell_type": "markdown",
   "id": "f9884fed",
   "metadata": {},
   "source": [
    "# 6) List next 30 days excluding holidays (read-only)"
   ]
  },
  {
   "cell_type": "code",
   "execution_count": 13,
   "id": "1e8e5db3",
   "metadata": {},
   "outputs": [
    {
     "name": "stdout",
     "output_type": "stream",
     "text": [
      "Found 10 non-holiday events in next 30 days\n",
      "\n",
      "Start                End                  Calendar       Title\n",
      "------------------------------------------------------------------------------------------\n",
      "2025-10-04 10:00     2025-10-04 10:30     Work           Test: Work event\n",
      "2025-10-05 10:00     2025-10-05 10:30     Home           Test: Home event\n",
      "2025-10-06 00:00     2025-10-06 01:00     Home           TA Office Hours\n",
      "2025-10-07 16:10     2025-10-07 18:00     Home           TA: Practicum\n",
      "2025-10-13 00:00     2025-10-13 01:00     Home           TA Office Hours\n",
      "2025-10-14 16:10     2025-10-14 18:00     Home           TA: Practicum\n",
      "2025-10-20 00:00     2025-10-20 01:00     Home           TA Office Hours\n",
      "2025-10-21 16:10     2025-10-21 18:00     Home           TA: Practicum\n",
      "2025-10-27 00:00     2025-10-27 01:00     Home           TA Office Hours\n",
      "2025-10-28 16:10     2025-10-28 18:00     Home           TA: Practicum\n"
     ]
    }
   ],
   "source": [
    "# Cell 6 — list next 30 days excluding holidays\n",
    "import requests\n",
    "from datetime import datetime\n",
    "\n",
    "BASE = \"http://127.0.0.1:8765\"\n",
    "\n",
    "events_30 = requests.get(f\"{BASE}/events\", params={\"days\": 30}, timeout=20).json()\n",
    "\n",
    "def is_holiday(e):\n",
    "    return \"holiday\" in (e.get(\"calendar\") or \"\").lower()\n",
    "\n",
    "filtered = [e for e in events_30 if not is_holiday(e)]\n",
    "\n",
    "print(f\"Found {len(filtered)} non-holiday events in next 30 days\\n\")\n",
    "print(f\"{'Start':<20} {'End':<20} {'Calendar':<14} Title\")\n",
    "print(\"-\"*90)\n",
    "for e in sorted(filtered, key=lambda x: x[\"start_iso\"]):\n",
    "    s = datetime.fromisoformat(e[\"start_iso\"]).strftime(\"%Y-%m-%d %H:%M\")\n",
    "    en = datetime.fromisoformat(e[\"end_iso\"]).strftime(\"%Y-%m-%d %H:%M\")\n",
    "    print(f\"{s:<20} {en:<20} {str(e.get('calendar') or ''):<14} {e['title']}\")\n"
   ]
  },
  {
   "cell_type": "markdown",
   "id": "a173349b",
   "metadata": {},
   "source": [
    "# 7) Negative test — try creating in a read-only calendar (should 4xx)"
   ]
  },
  {
   "cell_type": "code",
   "execution_count": 14,
   "id": "aded40fe",
   "metadata": {},
   "outputs": [
    {
     "name": "stdout",
     "output_type": "stream",
     "text": [
      "US Holidays writable? False\n",
      "CREATE status: 400\n",
      "Body: {\"detail\":\"calendar_id not writable: BB8C7E8D-EA0D-43BC-B670-5940F97624F2 (US Holidays)\"}\n"
     ]
    }
   ],
   "source": [
    "# Cell 7 — attempt to create in a read-only calendar (e.g., \"US Holidays\")\n",
    "import requests\n",
    "from datetime import datetime, timedelta\n",
    "\n",
    "BASE = \"http://127.0.0.1:8765\"\n",
    "\n",
    "# find a non-writable calendar id by title (e.g., \"US Holidays\")\n",
    "def get_calendar(title: str):\n",
    "    for c in requests.get(f\"{BASE}/calendars\", timeout=10).json():\n",
    "        if (c[\"title\"] or \"\").lower() == title.lower():\n",
    "            return c[\"id\"], c[\"allows_modifications\"]\n",
    "    return None, None\n",
    "\n",
    "hol_id, writable = get_calendar(\"US Holidays\")\n",
    "if not hol_id:\n",
    "    print(\"No 'US Holidays' calendar found on this system — skipping test.\")\n",
    "else:\n",
    "    print(\"US Holidays writable?\", writable)\n",
    "    start = (datetime.now().astimezone() + timedelta(minutes=20)).isoformat()\n",
    "    end   = (datetime.now().astimezone() + timedelta(minutes=50)).isoformat()\n",
    "    resp = requests.post(f\"{BASE}/add\", json={\n",
    "        \"title\": \"Should fail: read-only calendar\",\n",
    "        \"start_iso\": start,\n",
    "        \"end_iso\": end,\n",
    "        \"calendar_id\": hol_id\n",
    "    }, timeout=10)\n",
    "    print(\"CREATE status:\", resp.status_code)\n",
    "    print(\"Body:\", resp.text)\n"
   ]
  },
  {
   "cell_type": "markdown",
   "id": "76cbbade",
   "metadata": {},
   "source": [
    "# 8) Create another tagged event, verify, then delete (explicit calendar_id)"
   ]
  },
  {
   "cell_type": "code",
   "execution_count": 15,
   "id": "678d4b42",
   "metadata": {},
   "outputs": [
    {
     "name": "stdout",
     "output_type": "stream",
     "text": [
      "CREATE status: 200 {\"title\":\"Exp8 Tagged [#deepwork #proposal]\",\"start_iso\":\"2025-10-03T17:03:12.320656-04:00\",\"end_iso\":\"2025-10-03T17:33:12.320703-04:00\",\"id\":\"EE916233-9B0D-47E2-A28E-2F25E6CF2BCA\",\"calendar\":\"Work\"}\n",
      "EVENT_ID: EE916233-9B0D-47E2-A28E-2F25E6CF2BCA\n",
      "FOUND: True\n"
     ]
    }
   ],
   "source": [
    "# Cell 8A — create tagged event in WORK by ID\n",
    "import requests\n",
    "from datetime import datetime, timedelta\n",
    "\n",
    "BASE = \"http://127.0.0.1:8765\"\n",
    "\n",
    "# fetch WORK id\n",
    "def get_calendar_id_by_title(title: str):\n",
    "    for c in requests.get(f\"{BASE}/calendars\", timeout=10).json():\n",
    "        if (c[\"title\"] or \"\").strip().lower() == title.strip().lower():\n",
    "            return c[\"id\"], c[\"allows_modifications\"]\n",
    "    return None, None\n",
    "\n",
    "WORK_ID, writable = get_calendar_id_by_title(\"Work\")\n",
    "assert WORK_ID and writable, \"Work calendar not found or not writable.\"\n",
    "\n",
    "tags = [\"deepwork\",\"proposal\"]\n",
    "TITLE = f\"Exp8 Tagged [#\"+ \" #\".join(tags) + \"]\"\n",
    "NOTES = \"tags:\" + \",\".join(tags) + \"; source=notebook; exp=8A\"\n",
    "\n",
    "start = (datetime.now().astimezone() + timedelta(minutes=25)).isoformat()\n",
    "end   = (datetime.now().astimezone() + timedelta(minutes=55)).isoformat()\n",
    "\n",
    "resp = requests.post(f\"{BASE}/add\", json={\n",
    "    \"title\": TITLE,\n",
    "    \"start_iso\": start,\n",
    "    \"end_iso\": end,\n",
    "    \"notes\": NOTES,\n",
    "    \"calendar_id\": WORK_ID\n",
    "}, timeout=10)\n",
    "print(\"CREATE status:\", resp.status_code, resp.text)\n",
    "exp8_event = resp.json().get(\"id\")\n",
    "print(\"EVENT_ID:\", exp8_event)\n",
    "\n",
    "# quick verify it appears in the next 3 days\n",
    "evs = requests.get(f\"{BASE}/events\", params={\"days\": 3}, timeout=10).json()\n",
    "print(\"FOUND:\", any(e.get(\"id\") == exp8_event for e in evs))\n"
   ]
  },
  {
   "cell_type": "code",
   "execution_count": 16,
   "id": "9754fb46",
   "metadata": {},
   "outputs": [
    {
     "name": "stdout",
     "output_type": "stream",
     "text": [
      "DELETE: {'deleted': True}\n"
     ]
    }
   ],
   "source": [
    "# Cell 8B — delete event from 8A\n",
    "import requests\n",
    "\n",
    "BASE = \"http://127.0.0.1:8765\"\n",
    "assert 'exp8_event' in globals() and exp8_event, \"Run Cell 8A first.\"\n",
    "\n",
    "print(\"DELETE:\", requests.post(f\"{BASE}/delete\", params={\"event_id\": exp8_event}, timeout=10).json())\n"
   ]
  }
 ],
 "metadata": {
  "kernelspec": {
   "display_name": ".venv",
   "language": "python",
   "name": "python3"
  },
  "language_info": {
   "codemirror_mode": {
    "name": "ipython",
    "version": 3
   },
   "file_extension": ".py",
   "mimetype": "text/x-python",
   "name": "python",
   "nbconvert_exporter": "python",
   "pygments_lexer": "ipython3",
   "version": "3.11.6"
  }
 },
 "nbformat": 4,
 "nbformat_minor": 5
}
