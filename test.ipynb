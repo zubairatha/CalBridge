{
 "cells": [
  {
   "cell_type": "code",
   "execution_count": 20,
   "id": "5274d8df",
   "metadata": {},
   "outputs": [
    {
     "name": "stdout",
     "output_type": "stream",
     "text": [
      "Helper status: {'authorized': True, 'status_code': 3}\n"
     ]
    }
   ],
   "source": [
    "import requests, json\n",
    "from datetime import datetime, timedelta, timezone\n",
    "\n",
    "BASE = \"http://127.0.0.1:8765\"  # change if you used a different port\n",
    "\n",
    "def status():\n",
    "    try:\n",
    "        s = requests.get(f\"{BASE}/status\", timeout=5).json()\n",
    "        print(\"Helper status:\", s)\n",
    "        if not s.get(\"authorized\", False):\n",
    "            print(\"⚠️  Helper is not authorized yet. Open System Settings → Privacy & Security → Calendars and enable it.\")\n",
    "        return s\n",
    "    except Exception as e:\n",
    "        print(\"Could not reach helper:\", e)\n",
    "\n",
    "_ = status()\n"
   ]
  },
  {
   "cell_type": "code",
   "execution_count": 2,
   "id": "8547f8d9",
   "metadata": {},
   "outputs": [
    {
     "name": "stdout",
     "output_type": "stream",
     "text": [
      "Added: {'title': 'Notebook Test Event', 'start_iso': '2025-10-02T11:36:31.023947-04:00', 'end_iso': '2025-10-02T12:06:31.024008-04:00', 'id': '9CB16157-F8D3-456A-B211-5037BE00DE43', 'calendar': 'Home'}\n",
      "Found: {'title': 'Notebook Test Event', 'start_iso': '2025-10-02T11:36:31-04:00', 'end_iso': '2025-10-02T12:06:31-04:00', 'id': '9CB16157-F8D3-456A-B211-5037BE00DE43', 'calendar': 'Home'}\n"
     ]
    }
   ],
   "source": [
    "import time\n",
    "\n",
    "# 1) choose a title and time window\n",
    "TITLE = \"Notebook Test Event\"\n",
    "start = (datetime.now().astimezone() + timedelta(minutes=5)).isoformat()\n",
    "end   = (datetime.now().astimezone() + timedelta(minutes=35)).isoformat()\n",
    "\n",
    "# 2) create the event via helper API\n",
    "added = requests.post(f\"{BASE}/add\", json={\n",
    "    \"title\": TITLE,\n",
    "    \"start_iso\": start,\n",
    "    \"end_iso\": end,\n",
    "    \"notes\": \"created from Jupyter\"\n",
    "}, timeout=10).json()\n",
    "\n",
    "print(\"Added:\", added)\n",
    "EVENT_ID = added.get(\"id\")\n",
    "assert EVENT_ID, \"No event id returned from helper.\"\n",
    "\n",
    "# 3) verify it's present by fetching upcoming events and finding the id\n",
    "def find_event_by_id(eid, days=3):\n",
    "    events = requests.get(f\"{BASE}/events\", params={\"days\": days}, timeout=10).json()\n",
    "    for e in events:\n",
    "        if e.get(\"id\") == eid:\n",
    "            return e\n",
    "    return None\n",
    "\n",
    "# optionally wait a moment in case Calendar refresh is slow\n",
    "time.sleep(1.0)\n",
    "found = find_event_by_id(EVENT_ID, days=3)\n",
    "print(\"Found:\", found)\n",
    "\n",
    "assert found is not None, \"Event not found in upcoming events. Try increasing 'days' or waiting a few seconds and re-run the find.\"\n"
   ]
  },
  {
   "cell_type": "code",
   "execution_count": 3,
   "id": "b0366208",
   "metadata": {},
   "outputs": [
    {
     "name": "stdout",
     "output_type": "stream",
     "text": [
      "Delete response: {'deleted': True}\n",
      "Still present? False\n"
     ]
    }
   ],
   "source": [
    "assert EVENT_ID, \"Run the add cell first to set EVENT_ID.\"\n",
    "\n",
    "# 1) delete via helper\n",
    "deleted = requests.post(f\"{BASE}/delete\", params={\"event_id\": EVENT_ID}, timeout=10).json()\n",
    "print(\"Delete response:\", deleted)\n",
    "\n",
    "# 2) verify it’s gone\n",
    "gone = find_event_by_id(EVENT_ID, days=3)\n",
    "print(\"Still present?\", gone is not None)\n",
    "assert gone is None, \"Event still present—give it a few seconds and re-run this cell.\"\n"
   ]
  },
  {
   "cell_type": "code",
   "execution_count": 4,
   "id": "5a04c7c1",
   "metadata": {},
   "outputs": [
    {
     "name": "stdout",
     "output_type": "stream",
     "text": [
      "ADDED (tagged): {'title': 'Notebook Tagged Event [#work #deepwork #priority-high]', 'start_iso': '2025-10-02T11:46:24.781581-04:00', 'end_iso': '2025-10-02T12:16:24.781636-04:00', 'id': '051963C2-36BD-499C-BC8C-B7258F9AA91A', 'calendar': 'Home'}\n",
      "Found newly-added tagged event: True \n",
      " {'title': 'Notebook Tagged Event [#work #deepwork #priority-high]', 'start_iso': '2025-10-02T11:46:24-04:00', 'end_iso': '2025-10-02T12:16:24-04:00', 'id': '051963C2-36BD-499C-BC8C-B7258F9AA91A', 'calendar': 'Home'}\n"
     ]
    }
   ],
   "source": [
    "import requests\n",
    "from datetime import datetime, timedelta\n",
    "\n",
    "BASE = \"http://127.0.0.1:8765\"\n",
    "\n",
    "# Choose your tags here\n",
    "tags = [\"work\", \"deepwork\", \"priority-high\"]\n",
    "\n",
    "# Title with visible tags so they show up in /events listing\n",
    "TITLE = f\"Notebook Tagged Event [{ ' '.join('#' + t for t in tags) }]\"\n",
    "\n",
    "start = (datetime.now().astimezone() + timedelta(minutes=10)).isoformat()\n",
    "end   = (datetime.now().astimezone() + timedelta(minutes=40)).isoformat()\n",
    "\n",
    "# Put tags in notes in a machine-friendly way too (so later you can parse them).\n",
    "notes = \"tags: \" + \",\".join(tags) + \"\\nsource: jupyter\"\n",
    "\n",
    "added_tagged = requests.post(f\"{BASE}/add\", json={\n",
    "    \"title\": TITLE,\n",
    "    \"start_iso\": start,\n",
    "    \"end_iso\": end,\n",
    "    \"notes\": notes\n",
    "}, timeout=10).json()\n",
    "\n",
    "print(\"ADDED (tagged):\", added_tagged)\n",
    "TAGGED_EVENT_ID = added_tagged.get(\"id\")\n",
    "\n",
    "# Quick verify it appears in upcoming events\n",
    "events_next = requests.get(f\"{BASE}/events\", params={\"days\": 3}, timeout=10).json()\n",
    "found = next((e for e in events_next if e.get(\"id\") == TAGGED_EVENT_ID), None)\n",
    "print(\"Found newly-added tagged event:\", bool(found), \"\\n\", found)\n"
   ]
  },
  {
   "cell_type": "code",
   "execution_count": 5,
   "id": "e36ab779",
   "metadata": {},
   "outputs": [
    {
     "name": "stdout",
     "output_type": "stream",
     "text": [
      "Found 4 events in the next 7 days:\n",
      "\n",
      "Start                End                  Title                                                        ID                       \n",
      "----------------------------------------------------------------------------------------------------------------------------------\n",
      "2025-10-02 00:00     2025-10-03 00:00     Yom Kippur                                                   8F09EAB1-3910-4D16-991A- \n",
      "2025-10-02 11:46     2025-10-02 12:16     Notebook Tagged Event [#work #deepwork #priority-high]       051963C2-36BD-499C-BC8C- \n",
      "2025-10-06 00:00     2025-10-06 01:00     TA Office Hours                                              AC7A3416-9489-4CC0-B959- \n",
      "2025-10-07 16:10     2025-10-07 18:00     TA: Practicum                                                78321BA2-61E0-4B90-9BBC- \n"
     ]
    }
   ],
   "source": [
    "import requests\n",
    "from datetime import datetime\n",
    "from pprint import pprint\n",
    "\n",
    "BASE = \"http://127.0.0.1:8765\"\n",
    "\n",
    "week_events = requests.get(f\"{BASE}/events\", params={\"days\": 7}, timeout=10).json()\n",
    "\n",
    "# Pretty print as a simple table\n",
    "print(f\"Found {len(week_events)} events in the next 7 days:\\n\")\n",
    "print(f\"{'Start':<20} {'End':<20} {'Title':<60} {'ID':<25}\")\n",
    "print(\"-\" * 130)\n",
    "for e in week_events:\n",
    "    start = datetime.fromisoformat(e[\"start_iso\"]).strftime(\"%Y-%m-%d %H:%M\")\n",
    "    end   = datetime.fromisoformat(e[\"end_iso\"]).strftime(\"%Y-%m-%d %H:%M\")\n",
    "    title = (e[\"title\"] or \"\").replace(\"\\n\",\" \")[:58]\n",
    "    eid   = (e[\"id\"] or \"\")[:24]\n",
    "    print(f\"{start:<20} {end:<20} {title:<60} {eid:<25}\")\n",
    "\n",
    "# Optional: keep IDs of the events we just added so we can delete later\n",
    "# TAGGED_EVENT_ID already set if you ran the previous cell.\n"
   ]
  },
  {
   "cell_type": "code",
   "execution_count": 6,
   "id": "84970e02",
   "metadata": {},
   "outputs": [
    {
     "name": "stdout",
     "output_type": "stream",
     "text": [
      "Calendars found from events in the next 30 days:\n",
      "- Home\n",
      "- US Holidays\n",
      "- Work\n"
     ]
    }
   ],
   "source": [
    "import requests, collections\n",
    "from datetime import datetime\n",
    "\n",
    "BASE = \"http://127.0.0.1:8765\"\n",
    "\n",
    "events = requests.get(f\"{BASE}/events\", params={\"days\": 30}, timeout=10).json()\n",
    "cals = sorted({e.get(\"calendar\",\"\") for e in events if e.get(\"calendar\")})\n",
    "print(\"Calendars found from events in the next 30 days:\")\n",
    "for name in cals:\n",
    "    print(\"-\", name if name else \"(unnamed)\")\n"
   ]
  },
  {
   "cell_type": "code",
   "execution_count": 8,
   "id": "ab537e55",
   "metadata": {},
   "outputs": [
    {
     "name": "stdout",
     "output_type": "stream",
     "text": [
      "\n",
      "=== Home ===\n",
      "- 2025-10-06 00:00 → 01:00 | TA Office Hours (id: AC7A3416-9489-4CC0-B959-)\n",
      "- 2025-10-07 16:10 → 18:00 | TA: Practicum (id: 78321BA2-61E0-4B90-9BBC-)\n",
      "\n",
      "=== US Holidays ===\n",
      "- 2025-10-02 00:00 → 00:00 | Yom Kippur (id: 8F09EAB1-3910-4D16-991A-)\n",
      "\n",
      "=== Work ===\n",
      "- 2025-10-02 11:46 → 12:16 | Notebook Tagged Event [#work #deepwork #priority-high] (id: 051963C2-36BD-499C-BC8C-)\n"
     ]
    }
   ],
   "source": [
    "import requests, collections\n",
    "from datetime import datetime\n",
    "\n",
    "BASE = \"http://127.0.0.1:8765\"\n",
    "\n",
    "events = requests.get(f\"{BASE}/events\", params={\"days\": 7}, timeout=10).json()\n",
    "by_cal = collections.defaultdict(list)\n",
    "for e in events:\n",
    "    by_cal[e.get(\"calendar\",\"(unknown)\")].append(e)\n",
    "\n",
    "for cal_name in sorted(by_cal.keys()):\n",
    "    print(f\"\\n=== {cal_name} ===\")\n",
    "    for e in sorted(by_cal[cal_name], key=lambda x: x[\"start_iso\"]):\n",
    "        s = datetime.fromisoformat(e[\"start_iso\"]).strftime(\"%Y-%m-%d %H:%M\")\n",
    "        en = datetime.fromisoformat(e[\"end_iso\"]).strftime(\"%H:%M\")\n",
    "        print(f\"- {s} → {en} | {e['title']} (id: {e['id'][:24]})\")\n"
   ]
  },
  {
   "cell_type": "code",
   "execution_count": 9,
   "id": "48913afd",
   "metadata": {},
   "outputs": [
    {
     "name": "stdout",
     "output_type": "stream",
     "text": [
      "WORK  -> {'title': 'Test: Work event', 'start_iso': '2025-10-03T10:00:00-04:00', 'end_iso': '2025-10-03T10:30:00-04:00', 'id': 'F84E2A19-6355-4B39-BD2B-AE3A66B37565', 'calendar': 'Work'}\n",
      "HOME  -> {'title': 'Test: Home event', 'start_iso': '2025-10-04T10:00:00-04:00', 'end_iso': '2025-10-04T10:30:00-04:00', 'id': '861C1C3B-C6B6-4017-9513-AB9528052CFA', 'calendar': 'Work'}\n"
     ]
    }
   ],
   "source": [
    "import requests\n",
    "from datetime import datetime, timedelta\n",
    "\n",
    "BASE = \"http://127.0.0.1:8765\"\n",
    "\n",
    "# choose simple test times: 10:00–10:30 local time\n",
    "def day_at(hour, minute, days_from_now):\n",
    "    dt = datetime.now().astimezone().replace(hour=hour, minute=minute, second=0, microsecond=0)\n",
    "    return (dt + timedelta(days=days_from_now))\n",
    "\n",
    "tomorrow_start = day_at(10, 0, 1);  tomorrow_end = tomorrow_start + timedelta(minutes=30)\n",
    "dayafter_start = day_at(10, 0, 2);  dayafter_end = dayafter_start + timedelta(minutes=30)\n",
    "\n",
    "# Create in Work\n",
    "work_resp = requests.post(f\"{BASE}/add\", json={\n",
    "    \"title\": \"Test: Work event\",\n",
    "    \"start_iso\": tomorrow_start.isoformat(),\n",
    "    \"end_iso\": tomorrow_end.isoformat(),\n",
    "    \"notes\": \"created from notebook\",\n",
    "    \"calendar_title\": \"Work\"\n",
    "}, timeout=10).json()\n",
    "\n",
    "# Create in Home\n",
    "home_resp = requests.post(f\"{BASE}/add\", json={\n",
    "    \"title\": \"Test: Home event\",\n",
    "    \"start_iso\": dayafter_start.isoformat(),\n",
    "    \"end_iso\": dayafter_end.isoformat(),\n",
    "    \"notes\": \"created from notebook\",\n",
    "    \"calendar_title\": \"Home\"\n",
    "}, timeout=10).json()\n",
    "\n",
    "print(\"WORK  ->\", work_resp)\n",
    "print(\"HOME  ->\", home_resp)\n",
    "\n",
    "WORK_EVENT_ID = work_resp.get(\"id\")\n",
    "HOME_EVENT_ID = home_resp.get(\"id\")\n"
   ]
  },
  {
   "cell_type": "code",
   "execution_count": 10,
   "id": "fe01ce4a",
   "metadata": {},
   "outputs": [
    {
     "name": "stdout",
     "output_type": "stream",
     "text": [
      "Found 11 non-holiday events in the next 30 days\n",
      "\n",
      "Start                End                  Calendar       Title\n",
      "------------------------------------------------------------------------------------------\n",
      "2025-10-02 11:46     2025-10-02 12:16     Work           Notebook Tagged Event [#work #deepwork #priority-high]\n",
      "2025-10-03 10:00     2025-10-03 10:30     Work           Test: Work event\n",
      "2025-10-04 10:00     2025-10-04 10:30     Work           Test: Home event\n",
      "2025-10-06 00:00     2025-10-06 01:00     Home           TA Office Hours\n",
      "2025-10-07 16:10     2025-10-07 18:00     Home           TA: Practicum\n",
      "2025-10-13 00:00     2025-10-13 01:00     Home           TA Office Hours\n",
      "2025-10-14 16:10     2025-10-14 18:00     Home           TA: Practicum\n",
      "2025-10-20 00:00     2025-10-20 01:00     Home           TA Office Hours\n",
      "2025-10-21 16:10     2025-10-21 18:00     Home           TA: Practicum\n",
      "2025-10-27 00:00     2025-10-27 01:00     Home           TA Office Hours\n",
      "2025-10-28 16:10     2025-10-28 18:00     Home           TA: Practicum\n"
     ]
    }
   ],
   "source": [
    "import requests\n",
    "from datetime import datetime\n",
    "\n",
    "BASE = \"http://127.0.0.1:8765\"\n",
    "\n",
    "events_30 = requests.get(f\"{BASE}/events\", params={\"days\": 30}, timeout=15).json()\n",
    "\n",
    "def is_holiday_event(e):\n",
    "    calname = (e.get(\"calendar\") or \"\").lower()\n",
    "    return \"holiday\" in calname  # excludes \"US Holidays\", \"Holidays in India\", etc.\n",
    "\n",
    "filtered = [e for e in events_30 if not is_holiday_event(e)]\n",
    "\n",
    "print(f\"Found {len(filtered)} non-holiday events in the next 30 days\\n\")\n",
    "print(f\"{'Start':<20} {'End':<20} {'Calendar':<14} Title\")\n",
    "print(\"-\"*90)\n",
    "for e in sorted(filtered, key=lambda x: x[\"start_iso\"]):\n",
    "    s = datetime.fromisoformat(e[\"start_iso\"]).strftime(\"%Y-%m-%d %H:%M\")\n",
    "    en = datetime.fromisoformat(e[\"end_iso\"]).strftime(\"%Y-%m-%d %H:%M\")\n",
    "    print(f\"{s:<20} {en:<20} {str(e.get('calendar') or ''):<14} {e['title']}\")\n"
   ]
  },
  {
   "cell_type": "markdown",
   "id": "caf584bf",
   "metadata": {},
   "source": []
  },
  {
   "cell_type": "markdown",
   "id": "06f588e4",
   "metadata": {},
   "source": [
    "separate calendars"
   ]
  },
  {
   "cell_type": "code",
   "execution_count": 15,
   "id": "03c80290",
   "metadata": {},
   "outputs": [
    {
     "name": "stdout",
     "output_type": "stream",
     "text": [
      "Found 4 calendars\n",
      "\n",
      "Home                 writable=True color=#2c99d3  id=E198547B-614F-4109-B61A-96C56D4DED8A\n",
      "Birthdays            writable=False color=#6f829f  id=3CAFCE49-B7E6-4643-957A-5D2C095ABDCC\n",
      "US Holidays          writable=False color=#bf57da  id=BB8C7E8D-EA0D-43BC-B670-5940F97624F2\n",
      "Work                 writable=True color=#bf57da  id=20E9D11E-48F8-46E7-9CDB-73B49C70FD41\n"
     ]
    }
   ],
   "source": [
    "import requests\n",
    "BASE = \"http://127.0.0.1:8765\"\n",
    "\n",
    "cals = requests.get(f\"{BASE}/calendars\", timeout=10).json()\n",
    "print(f\"Found {len(cals)} calendars\\n\")\n",
    "for c in cals:\n",
    "    print(f\"{c['title']:<20} writable={c['allows_modifications']} color={c['color_hex']}  id={c['id']}\")\n"
   ]
  },
  {
   "cell_type": "code",
   "execution_count": 16,
   "id": "a221eb4a",
   "metadata": {},
   "outputs": [
    {
     "name": "stdout",
     "output_type": "stream",
     "text": [
      "WORK  -> {'title': 'Test: Work event', 'start_iso': '2025-10-03T10:00:00-04:00', 'end_iso': '2025-10-03T10:30:00-04:00', 'id': '13FEBFB4-68AA-4578-AED9-727BDAB383D9', 'calendar': 'Work'}\n",
      "HOME  -> {'title': 'Test: Home event', 'start_iso': '2025-10-04T10:00:00-04:00', 'end_iso': '2025-10-04T10:30:00-04:00', 'id': '42818E11-92F4-4085-83EE-D0B626DF0DC0', 'calendar': 'Work'}\n"
     ]
    }
   ],
   "source": [
    "import requests\n",
    "from datetime import datetime, timedelta\n",
    "\n",
    "BASE = \"http://127.0.0.1:8765\"\n",
    "\n",
    "# Paste the two IDs you saw above:\n",
    "WORK_ID = \"<<<PASTE_WORK_CALENDAR_ID_HERE>>>\"\n",
    "HOME_ID = \"<<<PASTE_HOME_CALENDAR_ID_HERE>>>\"\n",
    "\n",
    "def day_at(hour, minute, days_from_now):\n",
    "    dt = datetime.now().astimezone().replace(hour=hour, minute=minute, second=0, microsecond=0)\n",
    "    return (dt + timedelta(days=days_from_now))\n",
    "\n",
    "# Tomorrow 10:00 for Work; Day-after 10:00 for Home\n",
    "tomorrow_start = day_at(10, 0, 1);  tomorrow_end = tomorrow_start + timedelta(minutes=30)\n",
    "dayafter_start = day_at(10, 0, 2);  dayafter_end = dayafter_start + timedelta(minutes=30)\n",
    "\n",
    "work_resp = requests.post(f\"{BASE}/add\", json={\n",
    "    \"title\": \"Test: Work event\",\n",
    "    \"start_iso\": tomorrow_start.isoformat(),\n",
    "    \"end_iso\": tomorrow_end.isoformat(),\n",
    "    \"notes\": \"made with calendar_id\",\n",
    "    \"calendar_id\": WORK_ID\n",
    "}, timeout=10).json()\n",
    "\n",
    "home_resp = requests.post(f\"{BASE}/add\", json={\n",
    "    \"title\": \"Test: Home event\",\n",
    "    \"start_iso\": dayafter_start.isoformat(),\n",
    "    \"end_iso\": dayafter_end.isoformat(),\n",
    "    \"notes\": \"made with calendar_id\",\n",
    "    \"calendar_id\": HOME_ID\n",
    "}, timeout=10).json()\n",
    "\n",
    "print(\"WORK  ->\", work_resp)\n",
    "print(\"HOME  ->\", home_resp)\n"
   ]
  },
  {
   "cell_type": "code",
   "execution_count": 17,
   "id": "97fac6c5",
   "metadata": {},
   "outputs": [
    {
     "name": "stdout",
     "output_type": "stream",
     "text": [
      "\n",
      "=== Home ===\n",
      "- 2025-10-06 00:00 → 01:00 | TA Office Hours (id: AC7A3416-9489-4CC0-B959-)\n",
      "- 2025-10-07 16:10 → 18:00 | TA: Practicum (id: 78321BA2-61E0-4B90-9BBC-)\n",
      "\n",
      "=== US Holidays ===\n",
      "- 2025-10-02 00:00 → 00:00 | Yom Kippur (id: 8F09EAB1-3910-4D16-991A-)\n",
      "\n",
      "=== Work ===\n",
      "- 2025-10-03 10:00 → 10:30 | Test: Work event (id: 13FEBFB4-68AA-4578-AED9-)\n",
      "- 2025-10-04 10:00 → 10:30 | Test: Home event (id: 42818E11-92F4-4085-83EE-)\n"
     ]
    }
   ],
   "source": [
    "import requests, collections\n",
    "from datetime import datetime\n",
    "\n",
    "BASE = \"http://127.0.0.1:8765\"\n",
    "\n",
    "events = requests.get(f\"{BASE}/events\", params={\"days\": 7}, timeout=10).json()\n",
    "by_cal = collections.defaultdict(list)\n",
    "for e in events:\n",
    "    by_cal[e.get(\"calendar\",\"(unknown)\")].append(e)\n",
    "\n",
    "for cal_name in sorted(by_cal.keys()):\n",
    "    print(f\"\\n=== {cal_name} ===\")\n",
    "    for e in sorted(by_cal[cal_name], key=lambda x: x[\"start_iso\"]):\n",
    "        s = datetime.fromisoformat(e[\"start_iso\"]).strftime(\"%Y-%m-%d %H:%M\")\n",
    "        en = datetime.fromisoformat(e[\"end_iso\"]).strftime(\"%H:%M\")\n",
    "        print(f\"- {s} → {en} | {e['title']} (id: {e['id'][:24]})\")\n"
   ]
  },
  {
   "cell_type": "code",
   "execution_count": 18,
   "id": "ace6af27",
   "metadata": {},
   "outputs": [
    {
     "name": "stdout",
     "output_type": "stream",
     "text": [
      "Found 10 non-holiday events in the next 30 days\n",
      "\n",
      "Start                End                  Calendar       Title\n",
      "------------------------------------------------------------------------------------------\n",
      "2025-10-03 10:00     2025-10-03 10:30     Work           Test: Work event\n",
      "2025-10-04 10:00     2025-10-04 10:30     Work           Test: Home event\n",
      "2025-10-06 00:00     2025-10-06 01:00     Home           TA Office Hours\n",
      "2025-10-07 16:10     2025-10-07 18:00     Home           TA: Practicum\n",
      "2025-10-13 00:00     2025-10-13 01:00     Home           TA Office Hours\n",
      "2025-10-14 16:10     2025-10-14 18:00     Home           TA: Practicum\n",
      "2025-10-20 00:00     2025-10-20 01:00     Home           TA Office Hours\n",
      "2025-10-21 16:10     2025-10-21 18:00     Home           TA: Practicum\n",
      "2025-10-27 00:00     2025-10-27 01:00     Home           TA Office Hours\n",
      "2025-10-28 16:10     2025-10-28 18:00     Home           TA: Practicum\n"
     ]
    }
   ],
   "source": [
    "import requests\n",
    "from datetime import datetime\n",
    "\n",
    "BASE = \"http://127.0.0.1:8765\"\n",
    "\n",
    "events_30 = requests.get(f\"{BASE}/events\", params={\"days\": 30}, timeout=15).json()\n",
    "\n",
    "def is_holiday_event(e):\n",
    "    calname = (e.get(\"calendar\") or \"\").lower()\n",
    "    return \"holiday\" in calname\n",
    "\n",
    "filtered = [e for e in events_30 if not is_holiday_event(e)]\n",
    "\n",
    "print(f\"Found {len(filtered)} non-holiday events in the next 30 days\\n\")\n",
    "print(f\"{'Start':<20} {'End':<20} {'Calendar':<14} Title\")\n",
    "print(\"-\"*90)\n",
    "for e in sorted(filtered, key=lambda x: x[\"start_iso\"]):\n",
    "    s = datetime.fromisoformat(e[\"start_iso\"]).strftime(\"%Y-%m-%d %H:%M\")\n",
    "    en = datetime.fromisoformat(e[\"end_iso\"]).strftime(\"%Y-%m-%d %H:%M\")\n",
    "    print(f\"{s:<20} {en:<20} {str(e.get('calendar') or ''):<14} {e['title']}\")\n"
   ]
  },
  {
   "cell_type": "code",
   "execution_count": 19,
   "id": "de70628d",
   "metadata": {},
   "outputs": [
    {
     "name": "stdout",
     "output_type": "stream",
     "text": [
      "Found 4 calendars\n",
      "\n",
      "Home                 writable=True  id=E198547B-614F-4109-B61A-96C56D4DED8A\n",
      "Birthdays            writable=False  id=3CAFCE49-B7E6-4643-957A-5D2C095ABDCC\n",
      "US Holidays          writable=False  id=BB8C7E8D-EA0D-43BC-B670-5940F97624F2\n",
      "Work                 writable=True  id=20E9D11E-48F8-46E7-9CDB-73B49C70FD41\n"
     ]
    }
   ],
   "source": [
    "import requests\n",
    "BASE = \"http://127.0.0.1:8765\"\n",
    "\n",
    "cals = requests.get(f\"{BASE}/calendars\", timeout=10).json()\n",
    "print(f\"Found {len(cals)} calendars\\n\")\n",
    "for c in cals:\n",
    "    print(f\"{c['title']:<20} writable={c['allows_modifications']}  id={c['id']}\")\n"
   ]
  },
  {
   "cell_type": "markdown",
   "id": "fcc77195",
   "metadata": {},
   "source": [
    "calendar test again"
   ]
  },
  {
   "cell_type": "code",
   "execution_count": 21,
   "id": "ded92b7b",
   "metadata": {},
   "outputs": [
    {
     "name": "stdout",
     "output_type": "stream",
     "text": [
      "Home                 writable=True  id=E198547B-614F-4109-B61A-96C56D4DED8A\n",
      "Birthdays            writable=False  id=3CAFCE49-B7E6-4643-957A-5D2C095ABDCC\n",
      "US Holidays          writable=False  id=BB8C7E8D-EA0D-43BC-B670-5940F97624F2\n",
      "Work                 writable=True  id=20E9D11E-48F8-46E7-9CDB-73B49C70FD41\n"
     ]
    }
   ],
   "source": [
    "import requests\n",
    "BASE = \"http://127.0.0.1:8765\"\n",
    "\n",
    "cals = requests.get(f\"{BASE}/calendars\", timeout=10).json()\n",
    "for c in cals:\n",
    "    print(f\"{c['title']:<20} writable={c['allows_modifications']}  id={c['id']}\")\n"
   ]
  },
  {
   "cell_type": "code",
   "execution_count": 22,
   "id": "f81629d0",
   "metadata": {},
   "outputs": [
    {
     "name": "stdout",
     "output_type": "stream",
     "text": [
      "WORK: 200 {'title': 'Test: Work event (ID)', 'start_iso': '2025-10-03T10:00:00-04:00', 'end_iso': '2025-10-03T10:30:00-04:00', 'id': '8788CAC6-334F-434F-AF2A-B634C8D26709', 'calendar': 'Work'}\n",
      "HOME: 200 {'title': 'Test: Home event (ID)', 'start_iso': '2025-10-04T10:00:00-04:00', 'end_iso': '2025-10-04T10:30:00-04:00', 'id': '9D5A85B6-BF3E-425E-B52D-7A0B6E460893', 'calendar': 'Home'}\n"
     ]
    }
   ],
   "source": [
    "import requests\n",
    "from datetime import datetime, timedelta\n",
    "\n",
    "BASE = \"http://127.0.0.1:8765\"\n",
    "\n",
    "WORK_ID = \"20E9D11E-48F8-46E7-9CDB-73B49C70FD41\"\n",
    "HOME_ID = \"E198547B-614F-4109-B61A-96C56D4DED8A\"\n",
    "\n",
    "def day_at(hour, minute, days_from_now):\n",
    "    dt = datetime.now().astimezone().replace(hour=hour, minute=minute, second=0, microsecond=0)\n",
    "    return dt + timedelta(days=days_from_now)\n",
    "\n",
    "tomorrow_start = day_at(10, 0, 1);  tomorrow_end = tomorrow_start + timedelta(minutes=30)\n",
    "dayafter_start = day_at(10, 0, 2);  dayafter_end = dayafter_start + timedelta(minutes=30)\n",
    "\n",
    "work_resp = requests.post(f\"{BASE}/add\", json={\n",
    "    \"title\": \"Test: Work event (ID)\",\n",
    "    \"start_iso\": tomorrow_start.isoformat(),\n",
    "    \"end_iso\": tomorrow_end.isoformat(),\n",
    "    \"calendar_id\": WORK_ID\n",
    "}, timeout=10)\n",
    "\n",
    "home_resp = requests.post(f\"{BASE}/add\", json={\n",
    "    \"title\": \"Test: Home event (ID)\",\n",
    "    \"start_iso\": dayafter_start.isoformat(),\n",
    "    \"end_iso\": dayafter_end.isoformat(),\n",
    "    \"calendar_id\": HOME_ID\n",
    "}, timeout=10)\n",
    "\n",
    "print(\"WORK:\", work_resp.status_code, work_resp.json())\n",
    "print(\"HOME:\", home_resp.status_code, home_resp.json())\n"
   ]
  },
  {
   "cell_type": "code",
   "execution_count": 23,
   "id": "93867309",
   "metadata": {},
   "outputs": [
    {
     "name": "stdout",
     "output_type": "stream",
     "text": [
      "\n",
      "=== Home ===\n",
      "- 2025-10-04 10:00 → 10:30 | Test: Home event (ID) (id: 9D5A85B6-BF3E-425E-B52D-)\n",
      "- 2025-10-06 00:00 → 01:00 | TA Office Hours (id: AC7A3416-9489-4CC0-B959-)\n",
      "- 2025-10-07 16:10 → 18:00 | TA: Practicum (id: 78321BA2-61E0-4B90-9BBC-)\n",
      "\n",
      "=== US Holidays ===\n",
      "- 2025-10-02 00:00 → 00:00 | Yom Kippur (id: 8F09EAB1-3910-4D16-991A-)\n",
      "\n",
      "=== Work ===\n",
      "- 2025-10-03 10:00 → 10:30 | Test: Work event (ID) (id: 8788CAC6-334F-434F-AF2A-)\n"
     ]
    }
   ],
   "source": [
    "import requests, collections\n",
    "from datetime import datetime\n",
    "\n",
    "BASE = \"http://127.0.0.1:8765\"\n",
    "\n",
    "events = requests.get(f\"{BASE}/events\", params={\"days\": 7}, timeout=10).json()\n",
    "by_cal = collections.defaultdict(list)\n",
    "for e in events:\n",
    "    by_cal[e.get(\"calendar\",\"(unknown)\")].append(e)\n",
    "\n",
    "for cal_name in sorted(by_cal.keys()):\n",
    "    print(f\"\\n=== {cal_name} ===\")\n",
    "    for e in sorted(by_cal[cal_name], key=lambda x: x[\"start_iso\"]):\n",
    "        s = datetime.fromisoformat(e[\"start_iso\"]).strftime(\"%Y-%m-%d %H:%M\")\n",
    "        en = datetime.fromisoformat(e[\"end_iso\"]).strftime(\"%H:%M\")\n",
    "        print(f\"- {s} → {en} | {e['title']} (id: {e['id'][:24]})\")\n"
   ]
  }
 ],
 "metadata": {
  "kernelspec": {
   "display_name": ".venv",
   "language": "python",
   "name": "python3"
  },
  "language_info": {
   "codemirror_mode": {
    "name": "ipython",
    "version": 3
   },
   "file_extension": ".py",
   "mimetype": "text/x-python",
   "name": "python",
   "nbconvert_exporter": "python",
   "pygments_lexer": "ipython3",
   "version": "3.11.6"
  }
 },
 "nbformat": 4,
 "nbformat_minor": 5
}
